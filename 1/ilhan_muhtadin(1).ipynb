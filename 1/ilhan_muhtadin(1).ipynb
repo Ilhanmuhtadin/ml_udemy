{
  "nbformat": 4,
  "nbformat_minor": 0,
  "metadata": {
    "colab": {
      "provenance": [],
      "gpuType": "T4"
    },
    "kernelspec": {
      "name": "python3",
      "display_name": "Python 3"
    },
    "language_info": {
      "name": "python"
    },
    "accelerator": "GPU"
  },
  "cells": [
    {
      "cell_type": "markdown",
      "source": [
        " **nama                      : Ilhan Muhtadin**\n",
        "\n",
        " **kegiatan saat ini         : pelajar**\n",
        "\n",
        " **asal dari                     : lampung timur**\n",
        "\n",
        " **alasan memilih coure ini  : karena sekarang dunia digital saya ingin ikut terjun didalamnya dengan mempelajari Machine learning yg merupakan salah satu bidang teknologi yang paling berkembang pesat saat ini. Kemampuan untuk memahami dan menerapkan machine learning adalah aset berharga dalam dunia pekerjaan yang terus berubah.**\n",
        " **dan saya berharap supaya kedepan teknologi machine leearning ini dapat membantu orang lebih banyak lagi**\n",
        " **seperti pembuaatan aplikasi objeck detection jalan berlubang karena di indonesia banyak pengguna kendaraan bermotor apabila ada jalan berlubang sanagt berbahaya terlebih lagi ketika musim hujan lubang dijalan tidak terlihat**\n"
      ],
      "metadata": {
        "id": "TqtSXreWV2Bk"
      }
    },
    {
      "cell_type": "code",
      "source": [
        "# usahakan data diubah kedalam gpu ke edit notebook setting dan pilih gpu"
      ],
      "metadata": {
        "id": "2Hf2At-17nYC"
      },
      "execution_count": null,
      "outputs": []
    },
    {
      "cell_type": "markdown",
      "source": [],
      "metadata": {
        "id": "SPGNLo4wYP5n"
      }
    },
    {
      "cell_type": "code",
      "source": [
        "'''\n",
        "sedikit catatan\n",
        "\n",
        "AUTHOR: Julien de la Bruère-Terreault (drgfreeman@tuta.io)\n",
        "\n",
        "LICENSE: CC-BY-SA 4.0\n",
        "\n",
        "DESCRIPTION: This dataset contains images of hand gestures from the Rock-Paper-Scissors game. The images were captured as part of a hobby project where I developped a Rock-Paper-Scissors game using computer vision and machine learning on the Raspberry Pi (https://github.com/DrGFreeman/rps-cv)\n",
        "\n",
        "CONTENTS: The dataset contains a total of 2188 images corresponding to the 'Rock' (726 images), 'Paper' (710 images) and 'Scissors' (752 images) hand gestures of the Rock-Paper-Scissors game. All image are taken on a green background with relatively consistent ligithing and white balance.\n",
        "\n",
        "FORMAT: All images are RGB images of 300 pixels wide by 200 pixels high in .png format. The images are separated in three sub-folders named 'rock', 'paper' and 'scissors' according to their respective class.\n",
        "\n",
        "'''"
      ],
      "metadata": {
        "colab": {
          "base_uri": "https://localhost:8080/",
          "height": 104
        },
        "id": "9OAHXJOX7njn",
        "outputId": "e55e9b16-2fdb-44d3-d0b3-556e237b4e5d"
      },
      "execution_count": null,
      "outputs": [
        {
          "output_type": "execute_result",
          "data": {
            "text/plain": [
              "\"AUTHOR: Julien de la Bruère-Terreault (drgfreeman@tuta.io)\\n\\nLICENSE: CC-BY-SA 4.0\\n\\nDESCRIPTION: This dataset contains images of hand gestures from the Rock-Paper-Scissors game. The images were captured as part of a hobby project where I developped a Rock-Paper-Scissors game using computer vision and machine learning on the Raspberry Pi (https://github.com/DrGFreeman/rps-cv)\\n\\nCONTENTS: The dataset contains a total of 2188 images corresponding to the 'Rock' (726 images), 'Paper' (710 images) and 'Scissors' (752 images) hand gestures of the Rock-Paper-Scissors game. All image are taken on a green background with relatively consistent ligithing and white balance.\\n\\nFORMAT: All images are RGB images of 300 pixels wide by 200 pixels high in .png format. The images are separated in three sub-folders named 'rock', 'paper' and 'scissors' according to their respective class.\\n\\n\""
            ],
            "application/vnd.google.colaboratory.intrinsic+json": {
              "type": "string"
            }
          },
          "metadata": {},
          "execution_count": 119
        }
      ]
    },
    {
      "cell_type": "code",
      "source": [
        "#ambil data dari drive saya\n",
        "from google.colab import drive\n",
        "drive.mount('/content/drive')\n",
        "\n",
        "\n",
        "\n",
        "import tensorflow as tf\n",
        "from keras.preprocessing.image import ImageDataGenerator\n",
        "\n",
        "# Path ke direktori\n",
        "directory_path = '/content/drive/MyDrive/file scicor/rockpaperscissors'\n",
        "\n",
        "\n",
        "\n",
        "\n",
        "\n",
        "# Path ke direktori latih dan validasi\n",
        "train_dir = os.path.join(directory_path, 'rps-cv-images')\n",
        "train_datagen = ImageDataGenerator(rescale=1./255, shear_range=0.2, zoom_range=0.2,\n",
        "                                   horizontal_flip=True,\n",
        "                                   fill_mode = 'wrap',validation_split=0.4)# seperti yang diminta  60% train 40% val"
      ],
      "metadata": {
        "colab": {
          "base_uri": "https://localhost:8080/"
        },
        "id": "sG52exGDK2Tf",
        "outputId": "703110e8-ece0-44df-fc4d-9fae3d598d86"
      },
      "execution_count": null,
      "outputs": [
        {
          "output_type": "stream",
          "name": "stdout",
          "text": [
            "Drive already mounted at /content/drive; to attempt to forcibly remount, call drive.mount(\"/content/drive\", force_remount=True).\n"
          ]
        }
      ]
    },
    {
      "cell_type": "code",
      "source": [
        "import os\n",
        "import cv2\n",
        "\n",
        "\n",
        "data_dir = train_dir\n",
        "\n",
        "# Batasi jumlah data yang akan ditampilkan\n",
        "max_data_to_display = 50# tampilkan 50 data cuma untuk cek\n",
        "data_displayed = 0\n",
        "\n",
        "# Loop melalui setiap gambar dalam direktori dan cek ukurannya\n",
        "for folder_name in os.listdir(data_dir):\n",
        "    folder_path = os.path.join(data_dir, folder_name)\n",
        "    if os.path.isdir(folder_path):\n",
        "        for filename in os.listdir(folder_path):\n",
        "            if filename.endswith(\".jpg\") or filename.endswith(\".png\"):\n",
        "                file_path = os.path.join(folder_path, filename)\n",
        "                image = cv2.imread(file_path)\n",
        "                height, width, _ = image.shape\n",
        "                print(f\"Nama File: {filename}, Tinggi: {height}, Lebar: {width}\")\n",
        "                data_displayed += 1\n",
        "\n",
        "                # Cek apakah sudah mencapai batas\n",
        "                if data_displayed >= max_data_to_display:\n",
        "                    break\n",
        "\n",
        "\n"
      ],
      "metadata": {
        "colab": {
          "base_uri": "https://localhost:8080/"
        },
        "id": "Hi-kBlDSK_HQ",
        "outputId": "b9b571a1-71a1-4bd9-fe68-5650605ff13d"
      },
      "execution_count": null,
      "outputs": [
        {
          "output_type": "stream",
          "name": "stdout",
          "text": [
            "Nama File: 5CzwWCDnxKOJz5T0.png, Tinggi: 200, Lebar: 300\n",
            "Nama File: 533ZH0WCaiOZO0nL.png, Tinggi: 200, Lebar: 300\n",
            "Nama File: 2ufDQYIqKG1xRG7y.png, Tinggi: 200, Lebar: 300\n",
            "Nama File: 1WX9KKoq0nkWiTxI.png, Tinggi: 200, Lebar: 300\n",
            "Nama File: 3UH9T0W1eZQW36xF.png, Tinggi: 200, Lebar: 300\n",
            "Nama File: 4hvoLYY28SGuZCEI.png, Tinggi: 200, Lebar: 300\n",
            "Nama File: 3bkC6JAPog7xX9WO.png, Tinggi: 200, Lebar: 300\n",
            "Nama File: 5EUrUn1fjmi3TKE3.png, Tinggi: 200, Lebar: 300\n",
            "Nama File: 277q9TUTAsBAbTCj.png, Tinggi: 200, Lebar: 300\n",
            "Nama File: 17HZDUFSVPxcar99.png, Tinggi: 200, Lebar: 300\n",
            "Nama File: 0657zSfiTYzP2jrl.png, Tinggi: 200, Lebar: 300\n",
            "Nama File: 1lEpWTJDphkm3HdC.png, Tinggi: 200, Lebar: 300\n",
            "Nama File: 3hIcgfPOoWEIs16j.png, Tinggi: 200, Lebar: 300\n",
            "Nama File: 4Zh2kADxqxEsPTrX.png, Tinggi: 200, Lebar: 300\n",
            "Nama File: 2E8j595xseKRF60J.png, Tinggi: 200, Lebar: 300\n",
            "Nama File: 2V5E7uHmAh9eK0qt.png, Tinggi: 200, Lebar: 300\n",
            "Nama File: 1yDUM1w2HTbuPIfO.png, Tinggi: 200, Lebar: 300\n",
            "Nama File: 1vQCX4af6hQmuwxZ.png, Tinggi: 200, Lebar: 300\n",
            "Nama File: 46fOqpoVsNjc9m9m.png, Tinggi: 200, Lebar: 300\n",
            "Nama File: 4X8TOCQTfCWnMfm2.png, Tinggi: 200, Lebar: 300\n",
            "Nama File: 2ZPcSpOm7SEfQYwg.png, Tinggi: 200, Lebar: 300\n",
            "Nama File: 5QHP8zydBsbWyt4T.png, Tinggi: 200, Lebar: 300\n",
            "Nama File: 1VRzspyXpQ6A2rKy.png, Tinggi: 200, Lebar: 300\n",
            "Nama File: 3sHqqD2BAKmQp4dk.png, Tinggi: 200, Lebar: 300\n",
            "Nama File: 1wZUIsowmZRmESjh.png, Tinggi: 200, Lebar: 300\n",
            "Nama File: 1L1n6plr7jlZGirw.png, Tinggi: 200, Lebar: 300\n",
            "Nama File: 2M8LvUBGMOH1bsaz.png, Tinggi: 200, Lebar: 300\n",
            "Nama File: 0Flw60Z2MAWWKn6S.png, Tinggi: 200, Lebar: 300\n",
            "Nama File: 1jKhi65BPTLXnUI6.png, Tinggi: 200, Lebar: 300\n",
            "Nama File: 3kVoftgTNdDcvPPY.png, Tinggi: 200, Lebar: 300\n",
            "Nama File: 4E0THAnIciVeLK79.png, Tinggi: 200, Lebar: 300\n",
            "Nama File: 5inLBb6qZY0gpX3b.png, Tinggi: 200, Lebar: 300\n",
            "Nama File: 44Hu6owS3pPqmyG1.png, Tinggi: 200, Lebar: 300\n",
            "Nama File: 0zoQAmDFXehOZsAp.png, Tinggi: 200, Lebar: 300\n",
            "Nama File: 0CSaM2vL2cWX6Cay.png, Tinggi: 200, Lebar: 300\n",
            "Nama File: 256MrhkDete6aQhP.png, Tinggi: 200, Lebar: 300\n",
            "Nama File: 2J7q0JbqJrjmZC05.png, Tinggi: 200, Lebar: 300\n",
            "Nama File: 0ePX1wuCc3et7leL.png, Tinggi: 200, Lebar: 300\n",
            "Nama File: 5VvYOvnkxKc8PIog.png, Tinggi: 200, Lebar: 300\n",
            "Nama File: 4z7r8yUDFk3HwEgN.png, Tinggi: 200, Lebar: 300\n",
            "Nama File: 2gd0aqAxW55bHZP9.png, Tinggi: 200, Lebar: 300\n",
            "Nama File: 5DdrFpDc8YbG1oCo.png, Tinggi: 200, Lebar: 300\n",
            "Nama File: 2vDaPrc35RGC8nvM.png, Tinggi: 200, Lebar: 300\n",
            "Nama File: 0Ug54ifXRqqlZS2Z.png, Tinggi: 200, Lebar: 300\n",
            "Nama File: 5mipmm4t8RM5o0tW.png, Tinggi: 200, Lebar: 300\n",
            "Nama File: 65PVbRzrpzfdu8nJ.png, Tinggi: 200, Lebar: 300\n",
            "Nama File: 1Io5Ksm3bqy87EAU.png, Tinggi: 200, Lebar: 300\n",
            "Nama File: 55yz6JI9f5DTbq9D.png, Tinggi: 200, Lebar: 300\n",
            "Nama File: 5p5Qjz4unC0KcWoL.png, Tinggi: 200, Lebar: 300\n",
            "Nama File: 1CXgK9fgGdSRggD9.png, Tinggi: 200, Lebar: 300\n",
            "Nama File: 0cb6cVL8pkfi4wF6.png, Tinggi: 200, Lebar: 300\n",
            "Nama File: 8WivsxbidGW1wvnx.png, Tinggi: 200, Lebar: 300\n"
          ]
        }
      ]
    },
    {
      "cell_type": "code",
      "source": [
        "#sesuai data ukuran gambar 200,300\n",
        "print('\\ndata sebelum di split')\n",
        "training_set = train_datagen.flow_from_directory(train_dir,\n",
        "                                                 target_size=(200,300),  # dari data yg ada\n",
        "                                                 batch_size=32,\n",
        "                                                 class_mode='categorical')\n",
        "\n",
        "\n",
        "print('\\ndata setelah di split')\n",
        "train_generator = train_datagen.flow_from_directory(\n",
        "        train_dir,\n",
        "        target_size=(200,300),\n",
        "        class_mode='categorical',\n",
        "        shuffle=True,\n",
        "        subset='training')\n",
        "\n",
        "validation_generator = train_datagen.flow_from_directory(\n",
        "        train_dir,\n",
        "        target_size=(200,300),\n",
        "         class_mode='categorical',\n",
        "        subset='validation')"
      ],
      "metadata": {
        "colab": {
          "base_uri": "https://localhost:8080/"
        },
        "id": "7X6iuSf0K_d3",
        "outputId": "6e3af0f5-9742-49dc-9317-488ce6df47de"
      },
      "execution_count": null,
      "outputs": [
        {
          "output_type": "stream",
          "name": "stdout",
          "text": [
            "\n",
            "data sebelum di split\n",
            "Found 2188 images belonging to 3 classes.\n",
            "\n",
            "data setelah di split\n",
            "Found 1314 images belonging to 3 classes.\n",
            "Found 874 images belonging to 3 classes.\n"
          ]
        }
      ]
    },
    {
      "cell_type": "code",
      "source": [],
      "metadata": {
        "id": "mncMjoZmQmeY"
      },
      "execution_count": null,
      "outputs": []
    },
    {
      "cell_type": "code",
      "source": [],
      "metadata": {
        "id": "ekYktFwnQmhL"
      },
      "execution_count": null,
      "outputs": []
    },
    {
      "cell_type": "code",
      "source": [
        "\n",
        "#sesuai data ukuran gambar 200,300\n",
        "\n",
        "\n",
        "# Inisialisasi CNN\n",
        "cnn = tf.keras.models.Sequential()\n",
        "\n",
        "# Step 1 - Convolution\n",
        "cnn.add(tf.keras.layers.Conv2D(filters=32, kernel_size=3, activation='relu', input_shape=[200,300, 3]))\n",
        "\n",
        "# Step 2 - Pooling\n",
        "cnn.add(tf.keras.layers.MaxPool2D(pool_size=2, strides=2))\n",
        "\n",
        "# Menambahkan lapisan konvolusi kedua\n",
        "cnn.add(tf.keras.layers.Conv2D(filters=64, kernel_size=3, activation='relu'))\n",
        "cnn.add(tf.keras.layers.MaxPool2D(pool_size=2, strides=2))\n",
        "\n",
        "# Menambahkan lapisan konvolusi ketiga\n",
        "cnn.add(tf.keras.layers.Conv2D(filters=128, kernel_size=3, activation='relu'))\n",
        "cnn.add(tf.keras.layers.MaxPool2D(pool_size=2, strides=2))\n",
        "\n",
        "# Step 3 - Flattening\n",
        "cnn.add(tf.keras.layers.Flatten())\n",
        "\n",
        "# Step 4 - Full Connection\n",
        "cnn.add(tf.keras.layers.Dense(units=128, activation='relu'))\n",
        "\n",
        "# Step 5 - Output Layer\n",
        "cnn.add(tf.keras.layers.Dense(units=3, activation='softmax'))  # Ubah units menjadi 3 dan aktivasi menjadi softmax yg sebelumnya dilatihan kamar sigmoid\n",
        "\n",
        "# Mengompilasi CNN\n",
        "cnn.compile(optimizer='adam', loss='categorical_crossentropy', metrics=['accuracy']) #sebelumnya di latihan kamar menggunakan loss='binary_crossentropy' tetapi karena di seini lebih dari 2 digunakan categorical_crossentropy\n",
        "\n"
      ],
      "metadata": {
        "id": "ziPnTH9O7nmm"
      },
      "execution_count": null,
      "outputs": []
    },
    {
      "cell_type": "code",
      "source": [
        "import time\n",
        "\n",
        "# Catat waktu awal\n",
        "start_time = time.time()\n",
        "\n",
        "# Melatih CNN pada dataset Training dan mengevaluasinya pada dataset Validation\n",
        "history = cnn.fit(\n",
        "    x=train_generator,\n",
        "    validation_data=validation_generator,\n",
        "    epochs=25\n",
        ")\n",
        "\n",
        "# Catat waktu akhir\n",
        "end_time = time.time()\n",
        "\n",
        "# Hitung total waktu pelatihan\n",
        "training_time = end_time - start_time\n",
        "\n",
        "import math\n",
        "x=math.ceil(training_time)%60\n",
        "y=math.ceil(training_time)//60\n",
        "print(f\"kede berjalan selama  ==> {y} menit {x} detik\")"
      ],
      "metadata": {
        "colab": {
          "base_uri": "https://localhost:8080/"
        },
        "id": "cXBUHuPx7npi",
        "outputId": "0b45d503-a254-44ca-c4fe-c5a5f8ac355f"
      },
      "execution_count": null,
      "outputs": [
        {
          "output_type": "stream",
          "name": "stdout",
          "text": [
            "Epoch 1/25\n",
            "42/42 [==============================] - 46s 1s/step - loss: 1.1498 - accuracy: 0.4932 - val_loss: 0.7444 - val_accuracy: 0.7288\n",
            "Epoch 2/25\n",
            "42/42 [==============================] - 43s 1s/step - loss: 0.5903 - accuracy: 0.7656 - val_loss: 0.4460 - val_accuracy: 0.8364\n",
            "Epoch 3/25\n",
            "42/42 [==============================] - 42s 1s/step - loss: 0.3663 - accuracy: 0.8577 - val_loss: 0.4033 - val_accuracy: 0.8295\n",
            "Epoch 4/25\n",
            "42/42 [==============================] - 40s 984ms/step - loss: 0.2798 - accuracy: 0.8995 - val_loss: 0.2404 - val_accuracy: 0.9085\n",
            "Epoch 5/25\n",
            "42/42 [==============================] - 40s 971ms/step - loss: 0.2365 - accuracy: 0.9132 - val_loss: 0.2472 - val_accuracy: 0.9096\n",
            "Epoch 6/25\n",
            "42/42 [==============================] - 44s 1s/step - loss: 0.1850 - accuracy: 0.9292 - val_loss: 0.1724 - val_accuracy: 0.9439\n",
            "Epoch 7/25\n",
            "42/42 [==============================] - 41s 978ms/step - loss: 0.1685 - accuracy: 0.9368 - val_loss: 0.1830 - val_accuracy: 0.9359\n",
            "Epoch 8/25\n",
            "42/42 [==============================] - 45s 1s/step - loss: 0.1244 - accuracy: 0.9574 - val_loss: 0.1292 - val_accuracy: 0.9531\n",
            "Epoch 9/25\n",
            "42/42 [==============================] - 40s 949ms/step - loss: 0.1246 - accuracy: 0.9604 - val_loss: 0.1477 - val_accuracy: 0.9565\n",
            "Epoch 10/25\n",
            "42/42 [==============================] - 40s 955ms/step - loss: 0.0874 - accuracy: 0.9749 - val_loss: 0.1399 - val_accuracy: 0.9508\n",
            "Epoch 11/25\n",
            "42/42 [==============================] - 43s 1s/step - loss: 0.1089 - accuracy: 0.9589 - val_loss: 0.2172 - val_accuracy: 0.9405\n",
            "Epoch 12/25\n",
            "42/42 [==============================] - 40s 955ms/step - loss: 0.0945 - accuracy: 0.9696 - val_loss: 0.1237 - val_accuracy: 0.9611\n",
            "Epoch 13/25\n",
            "42/42 [==============================] - 38s 924ms/step - loss: 0.0778 - accuracy: 0.9673 - val_loss: 0.1764 - val_accuracy: 0.9382\n",
            "Epoch 14/25\n",
            "42/42 [==============================] - 44s 1s/step - loss: 0.0711 - accuracy: 0.9802 - val_loss: 0.1217 - val_accuracy: 0.9577\n",
            "Epoch 15/25\n",
            "42/42 [==============================] - 40s 957ms/step - loss: 0.0587 - accuracy: 0.9840 - val_loss: 0.1052 - val_accuracy: 0.9725\n",
            "Epoch 16/25\n",
            "42/42 [==============================] - 43s 1s/step - loss: 0.0414 - accuracy: 0.9825 - val_loss: 0.1140 - val_accuracy: 0.9645\n",
            "Epoch 17/25\n",
            "42/42 [==============================] - 46s 1s/step - loss: 0.0603 - accuracy: 0.9802 - val_loss: 0.1177 - val_accuracy: 0.9622\n",
            "Epoch 18/25\n",
            "42/42 [==============================] - 40s 952ms/step - loss: 0.0862 - accuracy: 0.9703 - val_loss: 0.1762 - val_accuracy: 0.9416\n",
            "Epoch 19/25\n",
            "42/42 [==============================] - 40s 952ms/step - loss: 0.0609 - accuracy: 0.9779 - val_loss: 0.1034 - val_accuracy: 0.9680\n",
            "Epoch 20/25\n",
            "42/42 [==============================] - 40s 949ms/step - loss: 0.0516 - accuracy: 0.9848 - val_loss: 0.1049 - val_accuracy: 0.9748\n",
            "Epoch 21/25\n",
            "42/42 [==============================] - 43s 1s/step - loss: 0.0251 - accuracy: 0.9939 - val_loss: 0.0929 - val_accuracy: 0.9748\n",
            "Epoch 22/25\n",
            "42/42 [==============================] - 39s 947ms/step - loss: 0.0192 - accuracy: 0.9939 - val_loss: 0.0976 - val_accuracy: 0.9714\n",
            "Epoch 23/25\n",
            "42/42 [==============================] - 38s 915ms/step - loss: 0.0164 - accuracy: 0.9939 - val_loss: 0.1322 - val_accuracy: 0.9668\n",
            "Epoch 24/25\n",
            "42/42 [==============================] - 40s 956ms/step - loss: 0.0313 - accuracy: 0.9901 - val_loss: 0.1188 - val_accuracy: 0.9748\n",
            "Epoch 25/25\n",
            "42/42 [==============================] - 40s 955ms/step - loss: 0.0172 - accuracy: 0.9947 - val_loss: 0.1141 - val_accuracy: 0.9737\n",
            "kede berjalan selama  ==> 18 menit 42 detik\n"
          ]
        }
      ]
    },
    {
      "cell_type": "markdown",
      "source": [
        "### **selanjutnya kita akan memakai gambar tetapi di perkecil menjadi 1/4 ukuran asli**"
      ],
      "metadata": {
        "id": "gEiiXGVcRUc-"
      }
    },
    {
      "cell_type": "code",
      "source": [
        "#selanjutnya kita ubah menjadi 50,75\n",
        "print('\\ndata sebelum di split')\n",
        "training_set = train_datagen.flow_from_directory(train_dir,\n",
        "                                                 target_size=(50,75),  # dari data yg ada\n",
        "                                                 batch_size=32,\n",
        "                                                 class_mode='categorical')\n",
        "\n",
        "\n",
        "print('\\ndata setelah di split')\n",
        "train_generator = train_datagen.flow_from_directory(\n",
        "        train_dir,\n",
        "        target_size=(50,75),\n",
        "        class_mode='categorical',\n",
        "        shuffle=True,\n",
        "        subset='training')\n",
        "\n",
        "validation_generator = train_datagen.flow_from_directory(\n",
        "        train_dir,\n",
        "        target_size=(50,75),\n",
        "         class_mode='categorical',\n",
        "        subset='validation')"
      ],
      "metadata": {
        "colab": {
          "base_uri": "https://localhost:8080/"
        },
        "id": "IboRs4x0Qdjq",
        "outputId": "1f586887-88f0-4088-f5b1-3a3d97142e55"
      },
      "execution_count": null,
      "outputs": [
        {
          "output_type": "stream",
          "name": "stdout",
          "text": [
            "\n",
            "data sebelum di split\n",
            "Found 2188 images belonging to 3 classes.\n",
            "\n",
            "data setelah di split\n",
            "Found 1314 images belonging to 3 classes.\n",
            "Found 874 images belonging to 3 classes.\n"
          ]
        }
      ]
    },
    {
      "cell_type": "code",
      "source": [],
      "metadata": {
        "id": "oTPo2mEZVysr"
      },
      "execution_count": null,
      "outputs": []
    },
    {
      "cell_type": "code",
      "source": [
        "\n",
        "#data ukuran gambar 50,75\n",
        "\n",
        "\n",
        "# Inisialisasi CNN\n",
        "cnn = tf.keras.models.Sequential()\n",
        "\n",
        "# Step 1 - Convolution\n",
        "cnn.add(tf.keras.layers.Conv2D(filters=32, kernel_size=3, activation='relu', input_shape=[50,75, 3]))\n",
        "\n",
        "# Step 2 - Pooling\n",
        "cnn.add(tf.keras.layers.MaxPool2D(pool_size=2, strides=2))\n",
        "\n",
        "# Menambahkan lapisan konvolusi kedua\n",
        "cnn.add(tf.keras.layers.Conv2D(filters=64, kernel_size=3, activation='relu'))\n",
        "cnn.add(tf.keras.layers.MaxPool2D(pool_size=2, strides=2))\n",
        "\n",
        "# Menambahkan lapisan konvolusi ketiga\n",
        "cnn.add(tf.keras.layers.Conv2D(filters=128, kernel_size=3, activation='relu'))\n",
        "cnn.add(tf.keras.layers.MaxPool2D(pool_size=2, strides=2))\n",
        "\n",
        "# Step 3 - Flattening\n",
        "cnn.add(tf.keras.layers.Flatten())\n",
        "\n",
        "# Step 4 - Full Connection\n",
        "cnn.add(tf.keras.layers.Dense(units=128, activation='relu'))\n",
        "\n",
        "# Step 5 - Output Layer\n",
        "cnn.add(tf.keras.layers.Dense(units=3, activation='softmax'))  # Ubah units menjadi 3 dan aktivasi menjadi softmax yg sebelumnya dilatihan kamar sigmoid\n",
        "\n",
        "# Mengompilasi CNN\n",
        "cnn.compile(optimizer='adam', loss='categorical_crossentropy', metrics=['accuracy'])#sebelumnya di latihan kamar menggunakan loss='binary_crossentropy' tetapi karena di seini lebih dari 2 digunakan categorical_crossentropy\n"
      ],
      "metadata": {
        "id": "JeHIBh8HQzWV"
      },
      "execution_count": null,
      "outputs": []
    },
    {
      "cell_type": "code",
      "source": [
        "import time\n",
        "\n",
        "# Catat waktu awal\n",
        "start_time_50_75 = time.time()\n",
        "\n",
        "# Melatih CNN pada dataset Training dan mengevaluasinya pada dataset Validation\n",
        "history = cnn.fit(\n",
        "    x=train_generator,\n",
        "    validation_data=validation_generator,\n",
        "    epochs=25\n",
        ")\n",
        "\n",
        "# Catat waktu akhir\n",
        "end_time_50_75  = time.time()\n",
        "\n",
        "# Hitung total waktu pelatihan\n",
        "training_time = end_time_50_75  - start_time_50_75\n",
        "\n",
        "import math\n",
        "x=math.ceil(training_time)%60\n",
        "y=math.ceil(training_time)//60\n",
        "print(f\"kede berjalan selama  ==> {y} menit {x} detik\")"
      ],
      "metadata": {
        "colab": {
          "base_uri": "https://localhost:8080/"
        },
        "id": "Fhaco5IhQ7DU",
        "outputId": "75bc40e6-4e6c-4f47-a14b-b2c0bc1e01e7"
      },
      "execution_count": null,
      "outputs": [
        {
          "output_type": "stream",
          "name": "stdout",
          "text": [
            "Epoch 1/25\n",
            "42/42 [==============================] - 14s 279ms/step - loss: 1.0143 - accuracy: 0.4802 - val_loss: 0.7699 - val_accuracy: 0.7414\n",
            "Epoch 2/25\n",
            "42/42 [==============================] - 11s 268ms/step - loss: 0.5602 - accuracy: 0.7808 - val_loss: 0.5216 - val_accuracy: 0.8227\n",
            "Epoch 3/25\n",
            "42/42 [==============================] - 15s 360ms/step - loss: 0.2656 - accuracy: 0.9094 - val_loss: 0.2814 - val_accuracy: 0.9039\n",
            "Epoch 4/25\n",
            "42/42 [==============================] - 14s 342ms/step - loss: 0.2018 - accuracy: 0.9292 - val_loss: 0.2124 - val_accuracy: 0.9371\n",
            "Epoch 5/25\n",
            "42/42 [==============================] - 11s 273ms/step - loss: 0.2160 - accuracy: 0.9239 - val_loss: 0.2339 - val_accuracy: 0.9256\n",
            "Epoch 6/25\n",
            "42/42 [==============================] - 11s 262ms/step - loss: 0.1856 - accuracy: 0.9353 - val_loss: 0.1639 - val_accuracy: 0.9565\n",
            "Epoch 7/25\n",
            "42/42 [==============================] - 11s 274ms/step - loss: 0.1412 - accuracy: 0.9513 - val_loss: 0.1490 - val_accuracy: 0.9565\n",
            "Epoch 8/25\n",
            "42/42 [==============================] - 11s 265ms/step - loss: 0.1817 - accuracy: 0.9361 - val_loss: 0.1804 - val_accuracy: 0.9451\n",
            "Epoch 9/25\n",
            "42/42 [==============================] - 12s 300ms/step - loss: 0.1242 - accuracy: 0.9619 - val_loss: 0.1263 - val_accuracy: 0.9668\n",
            "Epoch 10/25\n",
            "42/42 [==============================] - 12s 289ms/step - loss: 0.0979 - accuracy: 0.9650 - val_loss: 0.1581 - val_accuracy: 0.9554\n",
            "Epoch 11/25\n",
            "42/42 [==============================] - 12s 282ms/step - loss: 0.0986 - accuracy: 0.9642 - val_loss: 0.1794 - val_accuracy: 0.9474\n",
            "Epoch 12/25\n",
            "42/42 [==============================] - 11s 273ms/step - loss: 0.0930 - accuracy: 0.9680 - val_loss: 0.1006 - val_accuracy: 0.9714\n",
            "Epoch 13/25\n",
            "42/42 [==============================] - 11s 272ms/step - loss: 0.0717 - accuracy: 0.9749 - val_loss: 0.1128 - val_accuracy: 0.9771\n",
            "Epoch 14/25\n",
            "42/42 [==============================] - 11s 269ms/step - loss: 0.0858 - accuracy: 0.9718 - val_loss: 0.1372 - val_accuracy: 0.9565\n",
            "Epoch 15/25\n",
            "42/42 [==============================] - 16s 386ms/step - loss: 0.0661 - accuracy: 0.9795 - val_loss: 0.1334 - val_accuracy: 0.9542\n",
            "Epoch 16/25\n",
            "42/42 [==============================] - 11s 268ms/step - loss: 0.0531 - accuracy: 0.9840 - val_loss: 0.0894 - val_accuracy: 0.9771\n",
            "Epoch 17/25\n",
            "42/42 [==============================] - 12s 298ms/step - loss: 0.0560 - accuracy: 0.9817 - val_loss: 0.0919 - val_accuracy: 0.9725\n",
            "Epoch 18/25\n",
            "42/42 [==============================] - 11s 274ms/step - loss: 0.0439 - accuracy: 0.9840 - val_loss: 0.0702 - val_accuracy: 0.9783\n",
            "Epoch 19/25\n",
            "42/42 [==============================] - 13s 318ms/step - loss: 0.0430 - accuracy: 0.9893 - val_loss: 0.0779 - val_accuracy: 0.9794\n",
            "Epoch 20/25\n",
            "42/42 [==============================] - 11s 270ms/step - loss: 0.0438 - accuracy: 0.9863 - val_loss: 0.0630 - val_accuracy: 0.9840\n",
            "Epoch 21/25\n",
            "42/42 [==============================] - 17s 413ms/step - loss: 0.0337 - accuracy: 0.9886 - val_loss: 0.0495 - val_accuracy: 0.9897\n",
            "Epoch 22/25\n",
            "42/42 [==============================] - 11s 261ms/step - loss: 0.0379 - accuracy: 0.9901 - val_loss: 0.0921 - val_accuracy: 0.9760\n",
            "Epoch 23/25\n",
            "42/42 [==============================] - 11s 272ms/step - loss: 0.0224 - accuracy: 0.9932 - val_loss: 0.1026 - val_accuracy: 0.9771\n",
            "Epoch 24/25\n",
            "42/42 [==============================] - 12s 281ms/step - loss: 0.0298 - accuracy: 0.9909 - val_loss: 0.1191 - val_accuracy: 0.9645\n",
            "Epoch 25/25\n",
            "42/42 [==============================] - 13s 315ms/step - loss: 0.0481 - accuracy: 0.9802 - val_loss: 0.2428 - val_accuracy: 0.9096\n",
            "kede berjalan selama  ==> 5 menit 57 detik\n"
          ]
        }
      ]
    },
    {
      "cell_type": "code",
      "source": [
        "#disini saya hanya akan menggunkan yg ukuran 50,75 apabila berhasil maka yg ukuran normal juga akan berhasil karena accurasi tidak terlalu jauh\n",
        "\n",
        "#18 menit 42 detik normal\n",
        "#5 menit 57 detik diperkecil\n",
        "\n",
        "uploaded = files.upload()\n",
        "\n",
        "\n",
        "\n",
        "# predicting images\n",
        "path = fn\n",
        "img = image.load_img(path, target_size=(50,75))\n",
        "imgplot = plt.imshow(img)\n",
        "x = image.img_to_array(img)\n",
        "x = np.expand_dims(x, axis=0)\n",
        "\n",
        "images = np.vstack([x])\n",
        "classes = cnn .predict(images, batch_size=10)\n",
        "\n",
        "print(fn)\n",
        "if classes[0][0]==1:\n",
        "    print('paper')\n",
        "elif classes[0][1]==1:\n",
        "    print('rock')\n",
        "elif classes[0][2]==1:\n",
        "    print('scissors')\n",
        "else:\n",
        "    print('unknown')"
      ],
      "metadata": {
        "colab": {
          "base_uri": "https://localhost:8080/",
          "height": 501
        },
        "id": "evTTLQzkRxuk",
        "outputId": "9b054618-e7b7-4580-dd21-3915736df18e"
      },
      "execution_count": null,
      "outputs": [
        {
          "output_type": "display_data",
          "data": {
            "text/plain": [
              "<IPython.core.display.HTML object>"
            ],
            "text/html": [
              "\n",
              "     <input type=\"file\" id=\"files-a1cc6c60-581a-4293-a9cd-63f48729bf57\" name=\"files[]\" multiple disabled\n",
              "        style=\"border:none\" />\n",
              "     <output id=\"result-a1cc6c60-581a-4293-a9cd-63f48729bf57\">\n",
              "      Upload widget is only available when the cell has been executed in the\n",
              "      current browser session. Please rerun this cell to enable.\n",
              "      </output>\n",
              "      <script>// Copyright 2017 Google LLC\n",
              "//\n",
              "// Licensed under the Apache License, Version 2.0 (the \"License\");\n",
              "// you may not use this file except in compliance with the License.\n",
              "// You may obtain a copy of the License at\n",
              "//\n",
              "//      http://www.apache.org/licenses/LICENSE-2.0\n",
              "//\n",
              "// Unless required by applicable law or agreed to in writing, software\n",
              "// distributed under the License is distributed on an \"AS IS\" BASIS,\n",
              "// WITHOUT WARRANTIES OR CONDITIONS OF ANY KIND, either express or implied.\n",
              "// See the License for the specific language governing permissions and\n",
              "// limitations under the License.\n",
              "\n",
              "/**\n",
              " * @fileoverview Helpers for google.colab Python module.\n",
              " */\n",
              "(function(scope) {\n",
              "function span(text, styleAttributes = {}) {\n",
              "  const element = document.createElement('span');\n",
              "  element.textContent = text;\n",
              "  for (const key of Object.keys(styleAttributes)) {\n",
              "    element.style[key] = styleAttributes[key];\n",
              "  }\n",
              "  return element;\n",
              "}\n",
              "\n",
              "// Max number of bytes which will be uploaded at a time.\n",
              "const MAX_PAYLOAD_SIZE = 100 * 1024;\n",
              "\n",
              "function _uploadFiles(inputId, outputId) {\n",
              "  const steps = uploadFilesStep(inputId, outputId);\n",
              "  const outputElement = document.getElementById(outputId);\n",
              "  // Cache steps on the outputElement to make it available for the next call\n",
              "  // to uploadFilesContinue from Python.\n",
              "  outputElement.steps = steps;\n",
              "\n",
              "  return _uploadFilesContinue(outputId);\n",
              "}\n",
              "\n",
              "// This is roughly an async generator (not supported in the browser yet),\n",
              "// where there are multiple asynchronous steps and the Python side is going\n",
              "// to poll for completion of each step.\n",
              "// This uses a Promise to block the python side on completion of each step,\n",
              "// then passes the result of the previous step as the input to the next step.\n",
              "function _uploadFilesContinue(outputId) {\n",
              "  const outputElement = document.getElementById(outputId);\n",
              "  const steps = outputElement.steps;\n",
              "\n",
              "  const next = steps.next(outputElement.lastPromiseValue);\n",
              "  return Promise.resolve(next.value.promise).then((value) => {\n",
              "    // Cache the last promise value to make it available to the next\n",
              "    // step of the generator.\n",
              "    outputElement.lastPromiseValue = value;\n",
              "    return next.value.response;\n",
              "  });\n",
              "}\n",
              "\n",
              "/**\n",
              " * Generator function which is called between each async step of the upload\n",
              " * process.\n",
              " * @param {string} inputId Element ID of the input file picker element.\n",
              " * @param {string} outputId Element ID of the output display.\n",
              " * @return {!Iterable<!Object>} Iterable of next steps.\n",
              " */\n",
              "function* uploadFilesStep(inputId, outputId) {\n",
              "  const inputElement = document.getElementById(inputId);\n",
              "  inputElement.disabled = false;\n",
              "\n",
              "  const outputElement = document.getElementById(outputId);\n",
              "  outputElement.innerHTML = '';\n",
              "\n",
              "  const pickedPromise = new Promise((resolve) => {\n",
              "    inputElement.addEventListener('change', (e) => {\n",
              "      resolve(e.target.files);\n",
              "    });\n",
              "  });\n",
              "\n",
              "  const cancel = document.createElement('button');\n",
              "  inputElement.parentElement.appendChild(cancel);\n",
              "  cancel.textContent = 'Cancel upload';\n",
              "  const cancelPromise = new Promise((resolve) => {\n",
              "    cancel.onclick = () => {\n",
              "      resolve(null);\n",
              "    };\n",
              "  });\n",
              "\n",
              "  // Wait for the user to pick the files.\n",
              "  const files = yield {\n",
              "    promise: Promise.race([pickedPromise, cancelPromise]),\n",
              "    response: {\n",
              "      action: 'starting',\n",
              "    }\n",
              "  };\n",
              "\n",
              "  cancel.remove();\n",
              "\n",
              "  // Disable the input element since further picks are not allowed.\n",
              "  inputElement.disabled = true;\n",
              "\n",
              "  if (!files) {\n",
              "    return {\n",
              "      response: {\n",
              "        action: 'complete',\n",
              "      }\n",
              "    };\n",
              "  }\n",
              "\n",
              "  for (const file of files) {\n",
              "    const li = document.createElement('li');\n",
              "    li.append(span(file.name, {fontWeight: 'bold'}));\n",
              "    li.append(span(\n",
              "        `(${file.type || 'n/a'}) - ${file.size} bytes, ` +\n",
              "        `last modified: ${\n",
              "            file.lastModifiedDate ? file.lastModifiedDate.toLocaleDateString() :\n",
              "                                    'n/a'} - `));\n",
              "    const percent = span('0% done');\n",
              "    li.appendChild(percent);\n",
              "\n",
              "    outputElement.appendChild(li);\n",
              "\n",
              "    const fileDataPromise = new Promise((resolve) => {\n",
              "      const reader = new FileReader();\n",
              "      reader.onload = (e) => {\n",
              "        resolve(e.target.result);\n",
              "      };\n",
              "      reader.readAsArrayBuffer(file);\n",
              "    });\n",
              "    // Wait for the data to be ready.\n",
              "    let fileData = yield {\n",
              "      promise: fileDataPromise,\n",
              "      response: {\n",
              "        action: 'continue',\n",
              "      }\n",
              "    };\n",
              "\n",
              "    // Use a chunked sending to avoid message size limits. See b/62115660.\n",
              "    let position = 0;\n",
              "    do {\n",
              "      const length = Math.min(fileData.byteLength - position, MAX_PAYLOAD_SIZE);\n",
              "      const chunk = new Uint8Array(fileData, position, length);\n",
              "      position += length;\n",
              "\n",
              "      const base64 = btoa(String.fromCharCode.apply(null, chunk));\n",
              "      yield {\n",
              "        response: {\n",
              "          action: 'append',\n",
              "          file: file.name,\n",
              "          data: base64,\n",
              "        },\n",
              "      };\n",
              "\n",
              "      let percentDone = fileData.byteLength === 0 ?\n",
              "          100 :\n",
              "          Math.round((position / fileData.byteLength) * 100);\n",
              "      percent.textContent = `${percentDone}% done`;\n",
              "\n",
              "    } while (position < fileData.byteLength);\n",
              "  }\n",
              "\n",
              "  // All done.\n",
              "  yield {\n",
              "    response: {\n",
              "      action: 'complete',\n",
              "    }\n",
              "  };\n",
              "}\n",
              "\n",
              "scope.google = scope.google || {};\n",
              "scope.google.colab = scope.google.colab || {};\n",
              "scope.google.colab._files = {\n",
              "  _uploadFiles,\n",
              "  _uploadFilesContinue,\n",
              "};\n",
              "})(self);\n",
              "</script> "
            ]
          },
          "metadata": {}
        },
        {
          "output_type": "stream",
          "name": "stdout",
          "text": [
            "Saving glL1mPYeHM552bV4.png to glL1mPYeHM552bV4 (4).png\n",
            "1/1 [==============================] - 0s 73ms/step\n",
            "glL1mPYeHM552bV4 (3).png\n",
            "rock\n"
          ]
        },
        {
          "output_type": "display_data",
          "data": {
            "text/plain": [
              "<Figure size 640x480 with 1 Axes>"
            ],
            "image/png": "[encoded data removed]"
          },
          "metadata": {}
        }
      ]
    }
  ]
}